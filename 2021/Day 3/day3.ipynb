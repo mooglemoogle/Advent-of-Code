{
 "cells": [
  {
   "cell_type": "code",
   "execution_count": 3,
   "metadata": {},
   "outputs": [],
   "source": [
    "def split_lines(lines):\n",
    "    bit_pos = []\n",
    "    #prime bit_pos\n",
    "    for c in range(0, len(lines[0])):\n",
    "        bit_pos.append([])\n",
    "    for line in lines:\n",
    "        for i in range(0, len(line)):\n",
    "            bit_pos[i].append(int(line[i]))\n",
    "    \n",
    "    return bit_pos\n",
    "\n",
    "def get_sums(bit_pos):\n",
    "    return [sum(stack) for stack in bit_pos]\n",
    "\n",
    "def get_gamma(sums, length):\n",
    "    comp = length / 2\n",
    "    bits = ['1' if val > comp else '0' for val in sums]\n",
    "    return int(''.join(bits), 2)\n",
    "\n",
    "def get_epsilon(sums, length):\n",
    "    comp = length / 2\n",
    "    bits = ['0' if val > comp else '1' for val in sums]\n",
    "    return int(''.join(bits), 2)\n",
    "\n",
    "def get_by_crit(lines, bit, most):\n",
    "    stacks = split_lines(lines)\n",
    "    comp = len(lines) / 2\n",
    "\n",
    "    sums = get_sums(stacks)\n",
    "\n",
    "    if sums[bit] == comp or sums[bit] > comp:\n",
    "        good_bit = '1' if most else '0'\n",
    "    else:\n",
    "        good_bit = '0' if most else '1'\n",
    "    \n",
    "    return list(filter(lambda line: line[bit] == good_bit, lines))"
   ]
  },
  {
   "cell_type": "code",
   "execution_count": 4,
   "metadata": {},
   "outputs": [
    {
     "data": {
      "text/plain": [
       "3368358"
      ]
     },
     "execution_count": 4,
     "metadata": {},
     "output_type": "execute_result"
    }
   ],
   "source": [
    "lines = open('./data.txt', 'r').read().splitlines()\n",
    "\n",
    "o2_lines = lines.copy()\n",
    "co2_lines = lines.copy()\n",
    "\n",
    "for i in range(0, len(lines[0])):\n",
    "    o2_lines = get_by_crit(o2_lines, i, True) if len(o2_lines) > 1 else o2_lines\n",
    "    co2_lines = get_by_crit(co2_lines, i, False) if len(co2_lines) > 1 else co2_lines\n",
    "\n",
    "int(o2_lines[0], 2) * int(co2_lines[0], 2)"
   ]
  },
  {
   "cell_type": "code",
   "execution_count": null,
   "metadata": {},
   "outputs": [],
   "source": [
    "lines = open('./data.txt', 'r').read().splitlines()\n",
    "\n",
    "stacks = split_lines(lines)\n",
    "length = len(lines)\n",
    "\n",
    "sums = get_sums(stacks)\n",
    "\n",
    "gamma = get_gamma(sums, length)\n",
    "epsilon = get_epsilon(sums, length)\n",
    "\n",
    "gamma * epsilon"
   ]
  }
 ],
 "metadata": {
  "kernelspec": {
   "display_name": "Python 3.9.5 64-bit ('3.9.5')",
   "language": "python",
   "name": "python3"
  },
  "language_info": {
   "codemirror_mode": {
    "name": "ipython",
    "version": 3
   },
   "file_extension": ".py",
   "mimetype": "text/x-python",
   "name": "python",
   "nbconvert_exporter": "python",
   "pygments_lexer": "ipython3",
   "version": "3.9.5"
  },
  "orig_nbformat": 4,
  "vscode": {
   "interpreter": {
    "hash": "ed8ef1eb8950f0e182d7430025cd92cdff5cbb2ac440e6ad72774f39491fca9c"
   }
  }
 },
 "nbformat": 4,
 "nbformat_minor": 2
}
