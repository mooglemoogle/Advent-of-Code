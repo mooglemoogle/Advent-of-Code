{
 "cells": [
  {
   "cell_type": "code",
   "execution_count": 7,
   "metadata": {},
   "outputs": [
    {
     "data": {
      "text/plain": [
       "1960569556"
      ]
     },
     "execution_count": 7,
     "metadata": {},
     "output_type": "execute_result"
    }
   ],
   "source": [
    "import re\n",
    "lines = open('./data.txt', 'r').read().splitlines()\n",
    "\n",
    "hor = 0\n",
    "vert = 0\n",
    "aim = 0\n",
    "\n",
    "for line in lines:\n",
    "    num = int(re.search(r'\\d+', line).group())\n",
    "    if line[0] == 'f':\n",
    "        hor += num\n",
    "        vert += (num * aim)\n",
    "    elif line[0] == 'u':\n",
    "        aim -= num\n",
    "    else:\n",
    "        aim += num\n",
    "    \n",
    "\n",
    "hor * vert"
   ]
  },
  {
   "cell_type": "code",
   "execution_count": 4,
   "metadata": {},
   "outputs": [
    {
     "data": {
      "text/plain": [
       "'9'"
      ]
     },
     "execution_count": 4,
     "metadata": {},
     "output_type": "execute_result"
    }
   ],
   "source": [
    "re.search(r'\\d+', 'down 9').group()"
   ]
  }
 ],
 "metadata": {
  "kernelspec": {
   "display_name": "Python 3.9.9 64-bit ('3.9.9')",
   "language": "python",
   "name": "python3"
  },
  "language_info": {
   "codemirror_mode": {
    "name": "ipython",
    "version": 3
   },
   "file_extension": ".py",
   "mimetype": "text/x-python",
   "name": "python",
   "nbconvert_exporter": "python",
   "pygments_lexer": "ipython3",
   "version": "3.9.9"
  },
  "orig_nbformat": 4,
  "vscode": {
   "interpreter": {
    "hash": "22aeb63a0a2db747a321f2caafae8e1445c0cd0e33539d23040cf484a16a8cff"
   }
  }
 },
 "nbformat": 4,
 "nbformat_minor": 2
}
