{
 "cells": [
  {
   "cell_type": "code",
   "execution_count": 14,
   "metadata": {},
   "outputs": [
    {
     "data": {
      "text/plain": [
       "1797"
      ]
     },
     "execution_count": 14,
     "metadata": {},
     "output_type": "execute_result"
    }
   ],
   "source": [
    "last = 0\n",
    "\n",
    "vals = [int(line) for line in open('./data.txt', 'r').read().splitlines()]\n",
    "\n",
    "rolling_sums = [sum(vals[i-2:i+1]) > sum(vals[i-3:i]) for i in range(3, len(vals))]\n",
    "sum(rolling_sums)\n"
   ]
  }
 ],
 "metadata": {
  "kernelspec": {
   "display_name": "Python 3.9.9 64-bit ('3.9.9')",
   "language": "python",
   "name": "python3"
  },
  "language_info": {
   "codemirror_mode": {
    "name": "ipython",
    "version": 3
   },
   "file_extension": ".py",
   "mimetype": "text/x-python",
   "name": "python",
   "nbconvert_exporter": "python",
   "pygments_lexer": "ipython3",
   "version": "3.9.9"
  },
  "orig_nbformat": 4,
  "vscode": {
   "interpreter": {
    "hash": "22aeb63a0a2db747a321f2caafae8e1445c0cd0e33539d23040cf484a16a8cff"
   }
  }
 },
 "nbformat": 4,
 "nbformat_minor": 2
}
