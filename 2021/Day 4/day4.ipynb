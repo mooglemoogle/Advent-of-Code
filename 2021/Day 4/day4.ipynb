{
 "cells": [
  {
   "cell_type": "code",
   "execution_count": 25,
   "metadata": {},
   "outputs": [
    {
     "name": "stdout",
     "output_type": "stream",
     "text": [
      "5586 21\n"
     ]
    }
   ],
   "source": [
    "import re\n",
    "from functools import reduce\n",
    "\n",
    "input = open('./data.txt', 'r').read().split('\\n\\n')\n",
    "\n",
    "class Board:\n",
    "    def __init__(self, boardlines: list[str]):\n",
    "        self.rows = [[int(val) for val in re.findall(r'\\d+', line.strip())] for line in boardlines]\n",
    "        self.cols = [[row[i] for row in self.rows] for i in range(len(self.rows[0]))]\n",
    "        self.vals = [val for line in self.rows for val in line]\n",
    "        self.vals_set = set(self.vals)\n",
    "        self.lines = self.rows + self.cols\n",
    "    \n",
    "    def check(self, inputs: set[int], latest: int):\n",
    "        def check_series(line: list[int]):\n",
    "            return len(inputs.intersection(line)) == len(line)\n",
    "\n",
    "        won = False\n",
    "        for line in self.lines:\n",
    "            if check_series(line):\n",
    "                won = True\n",
    "                break\n",
    "\n",
    "        if won:\n",
    "            marked = inputs.intersection(self.vals)\n",
    "            unmarked = self.vals_set.difference(marked)\n",
    "            \n",
    "            unmarked_sum = sum(unmarked)\n",
    "\n",
    "            return unmarked_sum * latest\n",
    "        \n",
    "        return 0\n",
    "\n",
    "\n",
    "draws = [int(val) for val in input[0].split(',')]\n",
    "boards = [Board(board.splitlines()) for board in input[1:]]\n",
    "\n",
    "for i in range(5, len(draws)):\n",
    "    inputs = draws[:i]\n",
    "    input_set = set(inputs)\n",
    "    latest = inputs[-1]\n",
    "    \n",
    "    results = [board.check(input_set, latest) for board in boards]\n",
    "    winners = [ind for ind in range(len(results)) if results[ind] > 0]\n",
    "\n",
    "    if winners:\n",
    "        if (len(boards) == len(winners)):\n",
    "            result = results[winners[-1]]\n",
    "            print(result, latest)\n",
    "            break\n",
    "        for ind in reversed(winners):\n",
    "            boards.pop(ind)"
   ]
  },
  {
   "cell_type": "code",
   "execution_count": 23,
   "metadata": {},
   "outputs": [
    {
     "data": {
      "text/plain": [
       "['92', '3', '88', '13', '50']"
      ]
     },
     "execution_count": 23,
     "metadata": {},
     "output_type": "execute_result"
    }
   ],
   "source": [
    "re.findall(r'\\d+', '92  3 88 13 50')"
   ]
  }
 ],
 "metadata": {
  "kernelspec": {
   "display_name": "Python 3.9.5 64-bit ('3.9.5')",
   "language": "python",
   "name": "python3"
  },
  "language_info": {
   "codemirror_mode": {
    "name": "ipython",
    "version": 3
   },
   "file_extension": ".py",
   "mimetype": "text/x-python",
   "name": "python",
   "nbconvert_exporter": "python",
   "pygments_lexer": "ipython3",
   "version": "3.9.5"
  },
  "orig_nbformat": 4,
  "vscode": {
   "interpreter": {
    "hash": "ed8ef1eb8950f0e182d7430025cd92cdff5cbb2ac440e6ad72774f39491fca9c"
   }
  }
 },
 "nbformat": 4,
 "nbformat_minor": 2
}
