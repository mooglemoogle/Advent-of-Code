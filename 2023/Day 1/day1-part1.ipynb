{
 "cells": [
  {
   "cell_type": "code",
   "execution_count": 9,
   "metadata": {},
   "outputs": [],
   "source": [
    "import re\n",
    "# Part 1\n",
    "# Find the first and last digit in the string and combine them to get the calibration value\n",
    "\n",
    "test_data = [\n",
    "    '1abc2',\n",
    "    'pqr3stu8vwx',\n",
    "    'a1b2c3d4e5f',\n",
    "    'treb7uchet',\n",
    "]\n",
    "\n",
    "input_data = []\n",
    "\n",
    "f = open('./data.txt')\n",
    "\n",
    "for line in f:\n",
    "    input_data.append(line)\n",
    "\n",
    "f.close()"
   ]
  },
  {
   "cell_type": "code",
   "execution_count": 11,
   "metadata": {},
   "outputs": [
    {
     "data": {
      "text/plain": [
       "55607"
      ]
     },
     "execution_count": 11,
     "metadata": {},
     "output_type": "execute_result"
    }
   ],
   "source": [
    "data = input_data\n",
    "output = []\n",
    "\n",
    "for line in data:\n",
    "    digits = re.findall(r'\\d', line)\n",
    "    value = digits[0] + digits[-1]\n",
    "    output.append(int(value))\n",
    "\n",
    "output\n",
    "sum(output)"
   ]
  }
 ],
 "metadata": {
  "kernelspec": {
   "display_name": "Python 3",
   "language": "python",
   "name": "python3"
  },
  "language_info": {
   "codemirror_mode": {
    "name": "ipython",
    "version": 3
   },
   "file_extension": ".py",
   "mimetype": "text/x-python",
   "name": "python",
   "nbconvert_exporter": "python",
   "pygments_lexer": "ipython3",
   "version": "3.9.5"
  }
 },
 "nbformat": 4,
 "nbformat_minor": 2
}
