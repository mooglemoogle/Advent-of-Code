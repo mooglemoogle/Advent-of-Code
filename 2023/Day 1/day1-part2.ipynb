{
 "cells": [
  {
   "cell_type": "code",
   "execution_count": 12,
   "metadata": {},
   "outputs": [],
   "source": [
    "import re\n",
    "# Part 2\n",
    "# Find the first and last digit in the string and combine them to get the calibration value\n",
    "# Sometimes the digits are spelled out as words\n",
    "\n",
    "test_data = [\n",
    "    'eightwo',\n",
    "    'twone',\n",
    "    'two1nine',\n",
    "    'eightwothree',\n",
    "    'abcone2threexyz',\n",
    "    'xtwone3four',\n",
    "    '4nineeightseven2',\n",
    "    'zoneight234',\n",
    "    '7pqrstsixteen',\n",
    "]\n",
    "\n",
    "input_data = []\n",
    "\n",
    "f = open('./data.txt')\n",
    "\n",
    "for line in f:\n",
    "    input_data.append(line)\n",
    "\n",
    "f.close()"
   ]
  },
  {
   "cell_type": "code",
   "execution_count": 17,
   "metadata": {},
   "outputs": [
    {
     "data": {
      "text/plain": [
       "55291"
      ]
     },
     "execution_count": 17,
     "metadata": {},
     "output_type": "execute_result"
    }
   ],
   "source": [
    "data = input_data\n",
    "output = []\n",
    "\n",
    "words = {'one': '1', 'two': '2', 'three': '3', 'four': '4', 'five': '5', 'six': '6', 'seven': '7', 'eight': '8', 'nine': '9'}\n",
    "def word_to_number(value):\n",
    "    return value if not value in words else words[value]\n",
    "\n",
    "forward = r'(\\d|one|two|three|four|five|six|seven|eight|nine)'\n",
    "backward = r'(\\d|eno|owt|eerht|ruof|evif|xis|neves|thgie|enin)'\n",
    "for line in data:\n",
    "    digits = []\n",
    "    digits.append(re.findall(forward, line)[0])\n",
    "    digits.append( ''.join( reversed( re.findall( backward, ''.join( reversed(line) ) )[0] ) ) )\n",
    "    digits = list(map(word_to_number, digits))\n",
    "    value = digits[0] + digits[-1]\n",
    "    output.append(int(value))\n",
    "\n",
    "output\n",
    "sum(output)"
   ]
  }
 ],
 "metadata": {
  "kernelspec": {
   "display_name": "Python 3",
   "language": "python",
   "name": "python3"
  },
  "language_info": {
   "codemirror_mode": {
    "name": "ipython",
    "version": 3
   },
   "file_extension": ".py",
   "mimetype": "text/x-python",
   "name": "python",
   "nbconvert_exporter": "python",
   "pygments_lexer": "ipython3",
   "version": "3.9.5"
  }
 },
 "nbformat": 4,
 "nbformat_minor": 2
}
