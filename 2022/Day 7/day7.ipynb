{
 "cells": [
  {
   "cell_type": "code",
   "execution_count": 18,
   "metadata": {},
   "outputs": [
    {
     "name": "stdout",
     "output_type": "stream",
     "text": [
      "532950 545729\n"
     ]
    }
   ],
   "source": [
    "from collections import namedtuple\n",
    "\n",
    "commands = open('./data.txt').read().splitlines()\n",
    "\n",
    "def create_dir(name, parent):\n",
    "    return {\n",
    "        \"name\": name,\n",
    "        \"parent\": parent,\n",
    "        \"subdirs\": [],\n",
    "        \"files\": [],\n",
    "        \"size\": 0,\n",
    "    }\n",
    "\n",
    "def create_file(name, size):\n",
    "    return { \"name\": name, \"size\": size }\n",
    "\n",
    "def update_size(dir):\n",
    "    fileSize = sum([file['size'] for file in dir['files']])\n",
    "    dirSize = sum([update_size(subdir) for subdir in dir['subdirs']])\n",
    "\n",
    "    dir['size'] = fileSize + dirSize\n",
    "    return dir['size']\n",
    "\n",
    "root = create_dir('/', None)\n",
    "\n",
    "cur_dir = root\n",
    "\n",
    "def run_command(cmd:str, cmds:iter):\n",
    "    global root, cur_dir\n",
    "    [_, part] = cmd.split(' ', 1)\n",
    "    if part == 'ls':\n",
    "        files = []\n",
    "        file = next(cmds, None)\n",
    "        while file and not file.startswith('$'):\n",
    "            files.append(file)\n",
    "            file = next(cmds, None)\n",
    "        for x in files:\n",
    "            [a, b] = x.split(' ')\n",
    "            if a == 'dir':\n",
    "                cur_dir['subdirs'].append(create_dir(b, cur_dir))\n",
    "            else:\n",
    "                cur_dir['files'].append(create_file(b, int(a)))\n",
    "\n",
    "        # this one was not a file, it's the next command, so just run it\n",
    "        if file:\n",
    "            run_command(file, cmds)\n",
    "    else:\n",
    "        [_, new_dir] = part.split(' ')\n",
    "        if new_dir == '/':\n",
    "            cur_dir = root\n",
    "        elif new_dir == '..':\n",
    "            cur_dir = cur_dir['parent']\n",
    "        else:\n",
    "            cur_dir = next((dir for dir in cur_dir['subdirs'] if dir['name'] == new_dir))\n",
    "\n",
    "def run_commands(lines: list[str]):\n",
    "    cmds = iter(lines)\n",
    "\n",
    "    while cmd := next(cmds, None):\n",
    "        run_command(cmd, cmds)\n",
    "\n",
    "def find_dirs(start, pred:callable):\n",
    "    matches = []\n",
    "    for dir in start['subdirs']:\n",
    "        if pred(dir):\n",
    "            matches.append(dir)\n",
    "        matches.extend(find_dirs(dir, pred))\n",
    "    return matches\n",
    "\n",
    "run_commands(commands)\n",
    "\n",
    "update_size(root)\n",
    "\n",
    "matches = find_dirs(root, lambda dir: dir['size'] <= 100000)\n",
    "part1_answer = sum([dir['size'] for dir in matches])\n",
    "\n",
    "total_space = 70000000\n",
    "needed_space = 30000000\n",
    "max_usage = total_space - needed_space\n",
    "to_delete = root['size'] - max_usage\n",
    "\n",
    "big_enough = find_dirs(root, lambda dir: dir['size'] >= to_delete)\n",
    "part2_answer = min([dir['size'] for dir in big_enough])\n",
    "\n",
    "print(to_delete, part2_answer)"
   ]
  }
 ],
 "metadata": {
  "kernelspec": {
   "display_name": "Python 3.9.5 64-bit ('3.9.5')",
   "language": "python",
   "name": "python3"
  },
  "language_info": {
   "codemirror_mode": {
    "name": "ipython",
    "version": 3
   },
   "file_extension": ".py",
   "mimetype": "text/x-python",
   "name": "python",
   "nbconvert_exporter": "python",
   "pygments_lexer": "ipython3",
   "version": "3.9.5"
  },
  "orig_nbformat": 4,
  "vscode": {
   "interpreter": {
    "hash": "ed8ef1eb8950f0e182d7430025cd92cdff5cbb2ac440e6ad72774f39491fca9c"
   }
  }
 },
 "nbformat": 4,
 "nbformat_minor": 2
}
