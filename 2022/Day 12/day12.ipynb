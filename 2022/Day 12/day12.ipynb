{
 "cells": [
  {
   "cell_type": "code",
   "execution_count": 10,
   "metadata": {},
   "outputs": [
    {
     "name": "stdout",
     "output_type": "stream",
     "text": [
      "initial Node Point(x=0, y=20) h: 0\n",
      "dest Node Point(x=135, y=20) h: 25\n"
     ]
    }
   ],
   "source": [
    "from collections import namedtuple\n",
    "import heapq\n",
    "from typing import Optional\n",
    "\n",
    "lines = open('./data.txt', 'r').read().splitlines()\n",
    "\n",
    "Point = namedtuple('Point', 'x y')\n",
    "\n",
    "moves = [\n",
    "    lambda p: Point(p.x, p.y - 1),\n",
    "    lambda p: Point(p.x - 1, p.y),\n",
    "    lambda p: Point(p.x, p.y + 1),\n",
    "    lambda p: Point(p.x + 1, p.y)\n",
    "]\n",
    "\n",
    "class Node:\n",
    "    def __init__(self, point: Point, height: int):\n",
    "        self.point = point\n",
    "        self.height = height\n",
    "    \n",
    "    def __str__(self):\n",
    "        return f'Node {self.point} h: {self.height}'\n",
    "    \n",
    "    def __lt__(self, other): return True\n",
    "    def __le__(self, other): return True\n",
    "    def __gt__(self, other): return True\n",
    "    def __ge__(self, other): return True\n",
    "    def __eq__(self, other): return True\n",
    "    def __ne__(self, other): return True\n",
    "    \n",
    "    def calc_moves(self, node_map):\n",
    "        global moves\n",
    "        nodes = [get_node(node_map, move(self.point)) for move in moves]\n",
    "        #inbounds check\n",
    "        nodes = [node for node in nodes if node is not None]\n",
    "        # can only move to neighbors at the same height or one more\n",
    "        self.neighbors = [node for node in nodes if node.height <= self.height + 1]\n",
    "    \n",
    "    def set_distance(self, end):\n",
    "        self.distance = abs(self.point.x - end.point.x) + abs(self.point.y - end.point.y)\n",
    "\n",
    "class PriorityQueue:\n",
    "    def __init__(self):\n",
    "        self.elements: list[tuple[float, Node]] = []\n",
    "    def empty(self) -> bool:\n",
    "        return not self.elements\n",
    "    def put(self, item: Node, priority: float):\n",
    "        heapq.heappush(self.elements, (priority, item))\n",
    "    def get(self) -> Node:\n",
    "        return heapq.heappop(self.elements)[1]\n",
    "\n",
    "NodeMap = list[list[Node]]\n",
    "node_map: NodeMap = []\n",
    "node_line: list[Node] = []\n",
    "\n",
    "def get_node(node_map: NodeMap, point: Point):\n",
    "    if (point.x < 0 or point.y < 0 or point.x >= len(node_map[0]) or point.y >= len(node_map)):\n",
    "        return None\n",
    "    else:\n",
    "        return node_map[point.y][point.x]\n",
    "\n",
    "cur_loc: Node = None\n",
    "initial: Node = None\n",
    "dest: Node = None\n",
    "\n",
    "base = ord('a')\n",
    "for y in range(len(lines)):\n",
    "    line = lines[y]\n",
    "    for x in range(len(line)):\n",
    "        spot = line[x]\n",
    "        isStart = False\n",
    "        isEnd = False\n",
    "        if spot == 'S':\n",
    "            isStart = True\n",
    "            spot = 'a'\n",
    "        elif spot == 'E':\n",
    "            isEnd = True\n",
    "            spot = 'z'\n",
    "        height = ord(spot) - base\n",
    "        node = Node(Point(x, y), height)\n",
    "        node_line.append(node)\n",
    "        if (isStart):\n",
    "            initial = node\n",
    "        elif (isEnd):\n",
    "            dest = node\n",
    "    node_map.append(node_line)\n",
    "    node_line = []\n",
    "\n",
    "for line in node_map:\n",
    "    for node in line:\n",
    "        node.calc_moves(node_map)\n",
    "        node.set_distance(dest)\n",
    "\n",
    "print (f'initial {initial}')\n",
    "print (f'dest {dest}')\n",
    "\n",
    "CameFrom = dict[Point, Optional[Point]]\n",
    "CostSoFar = dict[Point, float]\n",
    "\n",
    "def do_astar(initial: Node):\n",
    "    frontier = PriorityQueue()\n",
    "    frontier.put(initial, 0)\n",
    "\n",
    "    came_from: CameFrom = {}\n",
    "    cost_so_far: CostSoFar = {}\n",
    "    came_from[initial.point] = None\n",
    "    cost_so_far[initial.point] = 0\n",
    "\n",
    "    while not frontier.empty():\n",
    "        current = frontier.get()\n",
    "\n",
    "        if current is dest:\n",
    "            break\n",
    "        \n",
    "        for next in current.neighbors:\n",
    "            next_point = next.point\n",
    "            new_cost = cost_so_far[current.point] + 1\n",
    "            if next_point not in cost_so_far or new_cost < cost_so_far[next_point]:\n",
    "                cost_so_far[next_point] = new_cost\n",
    "                priority = new_cost + next.distance\n",
    "                frontier.put(next, priority)\n",
    "                came_from[next_point] = current.point\n",
    "        \n",
    "    return came_from, cost_so_far\n",
    "\n",
    "def reconstruct_path(came_from: CameFrom, dest: Node):\n",
    "    if dest.point not in came_from:\n",
    "        return []\n",
    "    path = []\n",
    "    x = came_from[dest.point]\n",
    "    while x is not None:\n",
    "        node = get_node(node_map, x)\n",
    "        path.insert(0, node)\n",
    "        x = came_from[x]\n",
    "    return path\n"
   ]
  },
  {
   "cell_type": "code",
   "execution_count": 7,
   "metadata": {},
   "outputs": [
    {
     "data": {
      "text/plain": [
       "447"
      ]
     },
     "execution_count": 7,
     "metadata": {},
     "output_type": "execute_result"
    }
   ],
   "source": [
    "path = reconstruct_path(do_astar(initial)[0], dest)\n",
    "\n",
    "len(path)"
   ]
  },
  {
   "cell_type": "code",
   "execution_count": 12,
   "metadata": {},
   "outputs": [
    {
     "data": {
      "text/plain": [
       "446"
      ]
     },
     "execution_count": 12,
     "metadata": {},
     "output_type": "execute_result"
    }
   ],
   "source": [
    "start_nodes = [node for node_row in node_map for node in node_row if node.height == 0]\n",
    "\n",
    "path_lengths = []\n",
    "\n",
    "for node in start_nodes:\n",
    "    path = reconstruct_path(do_astar(node)[0], dest)\n",
    "    path_lengths.append(len(path))\n",
    "\n",
    "min([length for length in path_lengths if length > 0])"
   ]
  }
 ],
 "metadata": {
  "kernelspec": {
   "display_name": "Python 3.9.5 64-bit ('3.9.5')",
   "language": "python",
   "name": "python3"
  },
  "language_info": {
   "codemirror_mode": {
    "name": "ipython",
    "version": 3
   },
   "file_extension": ".py",
   "mimetype": "text/x-python",
   "name": "python",
   "nbconvert_exporter": "python",
   "pygments_lexer": "ipython3",
   "version": "3.9.5"
  },
  "orig_nbformat": 4,
  "vscode": {
   "interpreter": {
    "hash": "ed8ef1eb8950f0e182d7430025cd92cdff5cbb2ac440e6ad72774f39491fca9c"
   }
  }
 },
 "nbformat": 4,
 "nbformat_minor": 2
}
