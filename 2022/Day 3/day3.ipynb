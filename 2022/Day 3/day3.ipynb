{
 "cells": [
  {
   "cell_type": "code",
   "execution_count": 22,
   "metadata": {},
   "outputs": [],
   "source": [
    "def get_priority(char):\n",
    "    val = ord(char)\n",
    "    if val >= 97:\n",
    "        return val - 96\n",
    "    else:\n",
    "        return val - 38\n",
    "\n",
    "def split_sack(sack):\n",
    "    middle = int(len(sack) / 2)\n",
    "    return (sack[0:middle], sack[middle::])\n",
    "\n",
    "def find_match(pocket1, pocket2: str):\n",
    "    for char in pocket1:\n",
    "        if pocket2.find(char) > -1:\n",
    "            return char\n",
    "\n",
    "def find_badge(group):\n",
    "    vals = {}\n",
    "\n",
    "    for i in range(len(group)):\n",
    "        sack = group[i]\n",
    "        for item in sack:\n",
    "            matches = vals[item] if item in vals else {}\n",
    "            matches[i] = True\n",
    "\n",
    "            if len(matches) == 3:\n",
    "                return item\n",
    "            \n",
    "            vals[item] = matches"
   ]
  },
  {
   "cell_type": "code",
   "execution_count": 15,
   "metadata": {},
   "outputs": [
    {
     "data": {
      "text/plain": [
       "8401"
      ]
     },
     "execution_count": 15,
     "metadata": {},
     "output_type": "execute_result"
    }
   ],
   "source": [
    "f = open('./data.txt')\n",
    "\n",
    "sum = 0\n",
    "\n",
    "for line in f:\n",
    "    val = find_match(*split_sack(line))\n",
    "    sum += get_priority(val)\n",
    "\n",
    "f.close()\n",
    "\n",
    "sum"
   ]
  },
  {
   "cell_type": "code",
   "execution_count": 26,
   "metadata": {},
   "outputs": [
    {
     "data": {
      "text/plain": [
       "2641"
      ]
     },
     "execution_count": 26,
     "metadata": {},
     "output_type": "execute_result"
    }
   ],
   "source": [
    "f = open('./data.txt')\n",
    "\n",
    "sum = 0\n",
    "\n",
    "groups = []\n",
    "cur_group = []\n",
    "\n",
    "ind = 0\n",
    "for line in f:\n",
    "    cur_group.append(line)\n",
    "    ind += 1\n",
    "    if ind > 2:\n",
    "        ind = 0\n",
    "        groups.append(cur_group)\n",
    "        cur_group = []\n",
    "\n",
    "f.close()\n",
    "badges = []\n",
    "for group in groups:\n",
    "    badge = find_badge(group)\n",
    "    badges.append(badge)\n",
    "    sum += get_priority(badge)\n",
    "\n",
    "sum"
   ]
  }
 ],
 "metadata": {
  "kernelspec": {
   "display_name": "Python 3.9.5 64-bit ('3.9.5')",
   "language": "python",
   "name": "python3"
  },
  "language_info": {
   "codemirror_mode": {
    "name": "ipython",
    "version": 3
   },
   "file_extension": ".py",
   "mimetype": "text/x-python",
   "name": "python",
   "nbconvert_exporter": "python",
   "pygments_lexer": "ipython3",
   "version": "3.9.5"
  },
  "orig_nbformat": 4,
  "vscode": {
   "interpreter": {
    "hash": "ed8ef1eb8950f0e182d7430025cd92cdff5cbb2ac440e6ad72774f39491fca9c"
   }
  }
 },
 "nbformat": 4,
 "nbformat_minor": 2
}
