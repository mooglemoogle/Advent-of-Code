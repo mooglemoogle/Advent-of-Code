{
 "cells": [
  {
   "cell_type": "code",
   "execution_count": 19,
   "metadata": {},
   "outputs": [],
   "source": [
    "def parse_line(line:str):\n",
    "    line = line.strip()\n",
    "    elves = line.split(',')\n",
    "    elves = map(lambda x: list(map(lambda y: int(y), x.split('-'))), elves)\n",
    "    return list(elves)\n",
    "\n",
    "def two_fully_contains(pair):\n",
    "    return fully_contains(pair[0], pair[1]) or fully_contains(pair[1], pair[0])\n",
    "\n",
    "def fully_contains(e1, e2):\n",
    "    return e1[0] >= e2[0] and e1[-1] <= e2[-1]\n",
    "\n",
    "def two_overlaps(pair):\n",
    "    return overlaps(pair[0], pair[1]) or overlaps(pair[1], pair[0])\n",
    "\n",
    "def overlaps(e1, e2):\n",
    "    return e1[0] <= e2[1] and e1[1] >= e2[0]"
   ]
  },
  {
   "cell_type": "code",
   "execution_count": 20,
   "metadata": {},
   "outputs": [
    {
     "data": {
      "text/plain": [
       "914"
      ]
     },
     "execution_count": 20,
     "metadata": {},
     "output_type": "execute_result"
    }
   ],
   "source": [
    "f = open('./data.txt', 'r')\n",
    "\n",
    "data = f.readlines()\n",
    "\n",
    "f.close()\n",
    "\n",
    "parsed = [parse_line(line) for line in data]\n",
    "# results = [1 if two_fully_contains(pair) else 0 for pair in parsed]\n",
    "results = [1 if two_overlaps(pair) else 0 for pair in parsed]\n",
    "\n",
    "sum(results)"
   ]
  }
 ],
 "metadata": {
  "kernelspec": {
   "display_name": "Python 3.9.5 64-bit ('3.9.5')",
   "language": "python",
   "name": "python3"
  },
  "language_info": {
   "codemirror_mode": {
    "name": "ipython",
    "version": 3
   },
   "file_extension": ".py",
   "mimetype": "text/x-python",
   "name": "python",
   "nbconvert_exporter": "python",
   "pygments_lexer": "ipython3",
   "version": "3.9.5"
  },
  "orig_nbformat": 4,
  "vscode": {
   "interpreter": {
    "hash": "ed8ef1eb8950f0e182d7430025cd92cdff5cbb2ac440e6ad72774f39491fca9c"
   }
  }
 },
 "nbformat": 4,
 "nbformat_minor": 2
}
