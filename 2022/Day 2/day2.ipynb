{
 "cells": [
  {
   "cell_type": "code",
   "execution_count": 17,
   "metadata": {},
   "outputs": [],
   "source": [
    "paper = {\n",
    "    \"score\": 2,\n",
    "    \"beats\": None,\n",
    "    \"loses\": None\n",
    "}\n",
    "scissors = {\n",
    "    \"score\": 3,\n",
    "    \"beats\": paper,\n",
    "    \"loses\": None\n",
    "}\n",
    "rock = {\n",
    "    \"score\": 1,\n",
    "    \"beats\": scissors,\n",
    "    \"loses\": paper\n",
    "}\n",
    "paper[\"beats\"] = rock\n",
    "paper[\"loses\"] = scissors\n",
    "scissors[\"loses\"] = rock"
   ]
  },
  {
   "cell_type": "code",
   "execution_count": 18,
   "metadata": {},
   "outputs": [],
   "source": [
    "moves = {\n",
    "    \"rock\": rock,\n",
    "    \"scissors\": scissors,\n",
    "    \"paper\": paper\n",
    "}\n",
    "\n",
    "opponent_map = {\n",
    "    \"A\": rock,\n",
    "    \"B\": paper,\n",
    "    \"C\": scissors,\n",
    "}\n",
    "\n",
    "# player_map = {\n",
    "#     \"X\": rock,\n",
    "#     \"Y\": paper,\n",
    "#     \"Z\": scissors,\n",
    "# }\n",
    "\n",
    "# mapping = {**opponent_map, **player_map}"
   ]
  },
  {
   "cell_type": "code",
   "execution_count": 19,
   "metadata": {},
   "outputs": [],
   "source": [
    "def get_moves(opp_code, result_code):\n",
    "    opp_move = opponent_map[opp_code]\n",
    "    if result_code == 'X':\n",
    "        return (opp_move, opp_move[\"beats\"])\n",
    "    elif result_code == 'Y':\n",
    "        return (opp_move, opp_move)\n",
    "    else:\n",
    "        return (opp_move, opp_move[\"loses\"])\n",
    "\n",
    "def play_round(player, opponent):\n",
    "    result = {\n",
    "        \"player\": player,\n",
    "        \"opponent\": opponent,\n",
    "        \"score\": player['score'],\n",
    "        \"win\": None,\n",
    "    }\n",
    "    if player['beats'] == opponent:\n",
    "        result[\"score\"] += 6\n",
    "        result[\"win\"] = True\n",
    "    elif opponent['beats'] == player:\n",
    "        result[\"win\"] = False\n",
    "    else:\n",
    "        result[\"score\"] += 3\n",
    "        result[\"win\"] = None\n",
    "    \n",
    "    return result"
   ]
  },
  {
   "cell_type": "code",
   "execution_count": 20,
   "metadata": {},
   "outputs": [
    {
     "name": "stdout",
     "output_type": "stream",
     "text": [
      "10498\n"
     ]
    }
   ],
   "source": [
    "import re\n",
    "\n",
    "def do_rounds():\n",
    "    reg = re.compile(\"(?P<opp>[ABC]) (?P<result>[XYZ])\")\n",
    "\n",
    "    f = open('./matches.txt', 'r')\n",
    "\n",
    "    rounds = []\n",
    "    score = 0\n",
    "\n",
    "    for line in f:\n",
    "        result = reg.match(line)\n",
    "        (opp, player) = get_moves(result[\"opp\"], result[\"result\"])\n",
    "\n",
    "        round = play_round(player, opp)\n",
    "        score += round[\"score\"]\n",
    "        rounds.append(round)\n",
    "    \n",
    "    f.close()\n",
    "    print(score)\n",
    "    return rounds\n",
    "\n",
    "rounds = do_rounds()\n"
   ]
  }
 ],
 "metadata": {
  "kernelspec": {
   "display_name": "Python 3.9.5 64-bit ('3.9.5')",
   "language": "python",
   "name": "python3"
  },
  "language_info": {
   "codemirror_mode": {
    "name": "ipython",
    "version": 3
   },
   "file_extension": ".py",
   "mimetype": "text/x-python",
   "name": "python",
   "nbconvert_exporter": "python",
   "pygments_lexer": "ipython3",
   "version": "3.9.5"
  },
  "orig_nbformat": 4,
  "vscode": {
   "interpreter": {
    "hash": "ed8ef1eb8950f0e182d7430025cd92cdff5cbb2ac440e6ad72774f39491fca9c"
   }
  }
 },
 "nbformat": 4,
 "nbformat_minor": 2
}
