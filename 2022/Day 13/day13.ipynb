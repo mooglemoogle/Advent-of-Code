{
 "cells": [
  {
   "cell_type": "code",
   "execution_count": 15,
   "metadata": {},
   "outputs": [],
   "source": [
    "def cmp(a, b):\n",
    "    return (a > b) - (a < b)\n",
    "\n",
    "def compare_lists(left, right):\n",
    "    size_cmp = cmp(len(left), len(right))\n",
    "\n",
    "    for i in range(len(left)):\n",
    "        if (i >= len(right)):\n",
    "            return 1\n",
    "        (l, r) = (left[i], right[i])\n",
    "        if isinstance(l, int) and isinstance(r, int):\n",
    "            res = cmp(l, r)\n",
    "            if res != 0:\n",
    "                return res\n",
    "        else:\n",
    "            if not isinstance(l, list):\n",
    "                l = [l]\n",
    "            if not isinstance(r, list):\n",
    "                r = [r]\n",
    "            res = compare_lists(l, r)\n",
    "            if res != 0:\n",
    "                return res\n",
    "    \n",
    "    # If we got here, either the lists are equal size or the right is bigger\n",
    "    # since we end early if the left is bigger. So now we can return either\n",
    "    # True if right is bigger or None if they're equal\n",
    "    return size_cmp\n"
   ]
  },
  {
   "cell_type": "code",
   "execution_count": 18,
   "metadata": {},
   "outputs": [
    {
     "name": "stdout",
     "output_type": "stream",
     "text": [
      "5555\n"
     ]
    }
   ],
   "source": [
    "import json\n",
    "\n",
    "pairs = open('./data.txt', 'r').read().split('\\n\\n')\n",
    "pairs = [[json.loads(line) for line in pair.splitlines()] for pair in pairs]\n",
    "\n",
    "results = [compare_lists(left, right) for [left, right] in pairs]\n",
    "\n",
    "inds = [i + 1 for i in range(len(results)) if results[i] < 0]\n",
    "\n",
    "print(sum(inds))"
   ]
  },
  {
   "cell_type": "code",
   "execution_count": 23,
   "metadata": {},
   "outputs": [
    {
     "data": {
      "text/plain": [
       "22852"
      ]
     },
     "execution_count": 23,
     "metadata": {},
     "output_type": "execute_result"
    }
   ],
   "source": [
    "from functools import cmp_to_key\n",
    "\n",
    "flattened = [line for pair in pairs for line in pair]\n",
    "dividers = [[[2]], [[6]]]\n",
    "ordered = sorted(flattened + dividers, key=cmp_to_key(compare_lists))\n",
    "\n",
    "div_inds = [ordered.index(div) + 1 for div in dividers]\n",
    "\n",
    "div_inds[0] * div_inds[1]\n"
   ]
  }
 ],
 "metadata": {
  "kernelspec": {
   "display_name": "Python 3.9.5 64-bit ('3.9.5')",
   "language": "python",
   "name": "python3"
  },
  "language_info": {
   "codemirror_mode": {
    "name": "ipython",
    "version": 3
   },
   "file_extension": ".py",
   "mimetype": "text/x-python",
   "name": "python",
   "nbconvert_exporter": "python",
   "pygments_lexer": "ipython3",
   "version": "3.9.5"
  },
  "orig_nbformat": 4,
  "vscode": {
   "interpreter": {
    "hash": "ed8ef1eb8950f0e182d7430025cd92cdff5cbb2ac440e6ad72774f39491fca9c"
   }
  }
 },
 "nbformat": 4,
 "nbformat_minor": 2
}
