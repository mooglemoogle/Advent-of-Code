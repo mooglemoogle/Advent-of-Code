{
 "cells": [
  {
   "cell_type": "code",
   "execution_count": 8,
   "metadata": {},
   "outputs": [],
   "source": [
    "register = 1\n",
    "values = []\n",
    "def cpu(command):\n",
    "    global register, values\n",
    "    parts = command.split(' ')\n",
    "    if parts[0] == 'noop':\n",
    "        values.append(register)\n",
    "    else:\n",
    "        to_add = int(parts[1])\n",
    "        values.append(register)\n",
    "        values.append(register)\n",
    "        register += to_add"
   ]
  },
  {
   "cell_type": "code",
   "execution_count": 9,
   "metadata": {},
   "outputs": [
    {
     "name": "stdout",
     "output_type": "stream",
     "text": [
      "20 720\n",
      "60 1260\n",
      "100 2100\n",
      "140 2940\n",
      "180 6120\n",
      "220 3740\n"
     ]
    },
    {
     "data": {
      "text/plain": [
       "16880"
      ]
     },
     "execution_count": 9,
     "metadata": {},
     "output_type": "execute_result"
    }
   ],
   "source": [
    "instructions = open('./data.txt', 'r').read().splitlines()\n",
    "\n",
    "for ins in instructions:\n",
    "    cpu(ins)\n",
    "\n",
    "check_cycles = [20, 60, 100, 140, 180, 220]\n",
    "strengths = []\n",
    "\n",
    "for cycle in check_cycles:\n",
    "    print(cycle, cycle * values[cycle - 1])\n",
    "    strengths.append(cycle * values[cycle - 1])\n",
    "\n",
    "sum(strengths)"
   ]
  },
  {
   "cell_type": "code",
   "execution_count": 11,
   "metadata": {},
   "outputs": [
    {
     "data": {
      "text/plain": [
       "['###..#..#..##..####..##....##.###..###..',\n",
       " '#..#.#.#..#..#....#.#..#....#.#..#.#..#.',\n",
       " '#..#.##...#..#...#..#..#....#.###..#..#.',\n",
       " '###..#.#..####..#...####....#.#..#.###..',\n",
       " '#.#..#.#..#..#.#....#..#.#..#.#..#.#.#..',\n",
       " '#..#.#..#.#..#.####.#..#..##..###..#..#.']"
      ]
     },
     "execution_count": 11,
     "metadata": {},
     "output_type": "execute_result"
    }
   ],
   "source": [
    "rows = []\n",
    "cur_row = ''\n",
    "\n",
    "for i in range(len(values)):\n",
    "    pos = i % 40\n",
    "    if i > 0 and pos == 0:\n",
    "        rows.append(cur_row)\n",
    "        cur_row = ''\n",
    "    value = values[i]\n",
    "    to_draw = [pos - 1, pos, pos+1]\n",
    "    if value in to_draw:\n",
    "        cur_row = cur_row + '#'\n",
    "    else:\n",
    "        cur_row = cur_row + '.'\n",
    "\n",
    "rows.append(cur_row)\n",
    "rows"
   ]
  }
 ],
 "metadata": {
  "kernelspec": {
   "display_name": "Python 3.9.9 64-bit ('3.9.9')",
   "language": "python",
   "name": "python3"
  },
  "language_info": {
   "codemirror_mode": {
    "name": "ipython",
    "version": 3
   },
   "file_extension": ".py",
   "mimetype": "text/x-python",
   "name": "python",
   "nbconvert_exporter": "python",
   "pygments_lexer": "ipython3",
   "version": "3.9.9"
  },
  "orig_nbformat": 4,
  "vscode": {
   "interpreter": {
    "hash": "22aeb63a0a2db747a321f2caafae8e1445c0cd0e33539d23040cf484a16a8cff"
   }
  }
 },
 "nbformat": 4,
 "nbformat_minor": 2
}
