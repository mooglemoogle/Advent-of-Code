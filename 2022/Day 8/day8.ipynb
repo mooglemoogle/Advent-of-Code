{
 "cells": [
  {
   "cell_type": "code",
   "execution_count": 20,
   "metadata": {},
   "outputs": [],
   "source": [
    "def create_visible_grid(width, height):\n",
    "    return [[False] * width for i in range(height)]\n",
    "\n",
    "def check_visibility(trees: list[str], visible: list[list[bool]], index: int, is_row: bool, reverse: bool):\n",
    "    num_vals = len(trees[0]) if is_row else len(trees)\n",
    "    maxTree = -1\n",
    "\n",
    "    to_check = range(num_vals) if not reverse else reversed(range(num_vals))\n",
    "\n",
    "    for i in to_check:\n",
    "        y = index if is_row else i\n",
    "        x = i if is_row else index\n",
    "        tree = int(trees[y][x])\n",
    "        if tree > maxTree:\n",
    "            visible[y][x] = True\n",
    "            maxTree = tree\n",
    "        if tree == 9:\n",
    "            break\n",
    "\n",
    "def check_trees(trees: list[str]):\n",
    "    height = len(trees)\n",
    "    width = len(trees[0])\n",
    "\n",
    "    visible = create_visible_grid(width, height)\n",
    "\n",
    "    for i in range(width):\n",
    "        check_visibility(trees, visible, i, False, False)\n",
    "        check_visibility(trees, visible, i, False, True)\n",
    "    for i in range(height):\n",
    "        check_visibility(trees, visible, i, True, False)\n",
    "        check_visibility(trees, visible, i, True, True)\n",
    "\n",
    "    return visible"
   ]
  },
  {
   "cell_type": "code",
   "execution_count": 21,
   "metadata": {},
   "outputs": [],
   "source": [
    "trees = open('./data.txt', 'r').read().splitlines()\n",
    "\n",
    "visible = check_trees(trees)\n",
    "sum([sum(row) for row in visible])"
   ]
  },
  {
   "cell_type": "code",
   "execution_count": 33,
   "metadata": {},
   "outputs": [],
   "source": [
    "from functools import reduce\n",
    "\n",
    "def is_in(test, min, max):\n",
    "    return min <= test and test < max\n",
    "\n",
    "def walk_dir(trees: list[list[int]], tree, point, size, op):\n",
    "    (nx, ny) = point\n",
    "    (w, h) = size\n",
    "    score = 1\n",
    "    next_tree = -1\n",
    "    while next_tree < tree:\n",
    "        (nx, ny) = op(nx, ny)\n",
    "        if not is_in(nx, 0, w) or not is_in(ny, 0, h):\n",
    "            score -= 1\n",
    "            break\n",
    "        next_tree = trees[ny][nx]\n",
    "        if next_tree < tree:\n",
    "            score += 1\n",
    "    return score\n",
    "\n",
    "n = lambda x, y: (x, y - 1)\n",
    "e = lambda x, y: (x + 1, y)\n",
    "s = lambda x, y: (x, y + 1)\n",
    "w = lambda x, y: (x - 1, y)\n",
    "dirs = [n, e, s, w]\n",
    "\n",
    "def get_score(trees: list[list[int]], point, size):\n",
    "    (x, y) = point\n",
    "    tree = trees[y][x]\n",
    "\n",
    "    scores = []\n",
    "    for op in dirs:\n",
    "        score = walk_dir(trees, tree, point, size, op)\n",
    "        scores.append(score)\n",
    "\n",
    "    return reduce(lambda x, y: x * y, scores)\n",
    "\n",
    "def get_all_scores(trees):\n",
    "    size = (len(trees[0]), len(trees))\n",
    "    scores = [[0] * len(trees[0]) for i in range(len(trees))]\n",
    "    parsed_trees = [[int(tree) for tree in row] for row in trees]\n",
    "\n",
    "    for y in range(1, size[1] - 1):\n",
    "        for x in range(1, size[0] - 1):\n",
    "            scores[y][x] = get_score(parsed_trees, (x, y), size)\n",
    "    \n",
    "    return max([max(row) for row in scores])"
   ]
  },
  {
   "cell_type": "code",
   "execution_count": 34,
   "metadata": {},
   "outputs": [
    {
     "data": {
      "text/plain": [
       "504000"
      ]
     },
     "execution_count": 34,
     "metadata": {},
     "output_type": "execute_result"
    }
   ],
   "source": [
    "trees = open('./data.txt', 'r').read().splitlines()\n",
    "\n",
    "get_all_scores(trees)"
   ]
  }
 ],
 "metadata": {
  "kernelspec": {
   "display_name": "Python 3.9.9 64-bit ('3.9.9')",
   "language": "python",
   "name": "python3"
  },
  "language_info": {
   "codemirror_mode": {
    "name": "ipython",
    "version": 3
   },
   "file_extension": ".py",
   "mimetype": "text/x-python",
   "name": "python",
   "nbconvert_exporter": "python",
   "pygments_lexer": "ipython3",
   "version": "3.9.9"
  },
  "orig_nbformat": 4,
  "vscode": {
   "interpreter": {
    "hash": "22aeb63a0a2db747a321f2caafae8e1445c0cd0e33539d23040cf484a16a8cff"
   }
  }
 },
 "nbformat": 4,
 "nbformat_minor": 2
}
