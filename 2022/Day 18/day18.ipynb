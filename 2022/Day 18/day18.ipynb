{
 "cells": [
  {
   "cell_type": "code",
   "execution_count": 11,
   "metadata": {},
   "outputs": [],
   "source": [
    "import matplotlib as mpl\n",
    "import matplotlib.pyplot as plt\n",
    "import matplotlib.animation as anim\n",
    "import numpy as np\n",
    "from collections import namedtuple\n",
    "\n",
    "Point = namedtuple('Point', 'x y z')\n",
    "\n",
    "class Cube:\n",
    "    def __init__(self, line: str):\n",
    "        p = Point(*[int(v) for v in line.split(',')])\n",
    "        self.p = p\n",
    "        self.n = (\n",
    "            Point(p.x - 1, p.y, p.z),\n",
    "            Point(p.x + 1, p.y, p.z),\n",
    "            Point(p.x, p.y - 1, p.z),\n",
    "            Point(p.x, p.y + 1, p.z),\n",
    "            Point(p.x, p.y, p.z - 1),\n",
    "            Point(p.x, p.y, p.z + 1),\n",
    "        )\n",
    "        self.exposed: dict[Point, bool] = {}\n",
    "        self.visited: dict[Point, bool] = {}\n",
    "    \n",
    "    def visit(self, p: Point):\n",
    "        self.visited[p] = True\n",
    "    \n",
    "    def reset(self):\n",
    "        self.visited = {}\n",
    "    \n",
    "    def get_surface_area(self, map: dict[Point, any]):\n",
    "        for n in self.n:\n",
    "            if n not in map:\n",
    "                self.exposed[n] = True\n",
    "        return len(self.exposed)\n",
    "    \n",
    "    def get_visited_area(self):\n",
    "        return len(self.visited)"
   ]
  },
  {
   "cell_type": "code",
   "execution_count": 9,
   "metadata": {},
   "outputs": [
    {
     "data": {
      "text/plain": [
       "3496"
      ]
     },
     "execution_count": 9,
     "metadata": {},
     "output_type": "execute_result"
    }
   ],
   "source": [
    "data = open('./data.txt', 'r').read().splitlines()\n",
    "test_data = open('./testdata.txt', 'r').read().splitlines()\n",
    "\n",
    "items = [Cube(line) for line in data]\n",
    "cube_map = { c.p : c for c in items }\n",
    "\n",
    "sum([n.get_surface_area(cube_map) for n in items])"
   ]
  },
  {
   "cell_type": "code",
   "execution_count": 14,
   "metadata": {},
   "outputs": [],
   "source": [
    "P2 = namedtuple('P2', 'x y')\n",
    "Range = tuple[tuple[int, int], tuple[int, int]]\n",
    "\n",
    "def is_in_bounds(p: P2, r: Range):\n",
    "    return p.x >= r[0][0] and p.x <= r[1][0] and p.y >= r[0][1] and p.y <= r[1][1]\n",
    "\n",
    "class Steam:\n",
    "    def __init__(self, x: int, y: int, slice_range: Range):\n",
    "        self.x = x\n",
    "        self.y = y\n",
    "        ns = [\n",
    "            P2(self.x - 1, self.y),\n",
    "            P2(self.x + 1, self.y),\n",
    "            P2(self.x, self.y - 1),\n",
    "            P2(self.x, self.y + 1),\n",
    "        ]\n",
    "        self.n = tuple([n for n in ns if is_in_bounds(n, slice_range)])\n",
    "        self.r = slice_range\n",
    "    \n",
    "    def get_neighbors_for_z(self, z: int):\n",
    "        return tuple(\n",
    "            [Point(p.x, p.y, z) for p in self.n] + [Point(self.x, self.y, z + 1), Point(self.x, self.y, z -1)],\n",
    "        )\n",
    "\n",
    "    def get_up_for_z(self, z: int):\n",
    "        return Point(self.x, self.y, z + 1)\n",
    "    \n",
    "    def should_die(self, map, z):\n",
    "        return self.get_up_for_z(z) in map\n",
    "    \n",
    "    def visit(self, slice: dict[P2, any], map: dict[Point, Cube], z):\n",
    "        this_p = Point(self.x, self.y, z)\n",
    "        for p in self.get_neighbors_for_z(z):\n",
    "            if p in map:\n",
    "                map[p].visit(this_p)\n",
    "        for p in self.n:\n",
    "            if p not in slice:\n",
    "                p3 = Point(p.x, p.y, z)\n",
    "                if p3 not in map:\n",
    "                    new_steam = Steam(p.x, p.y, self.r)\n",
    "                    slice[p] = new_steam\n",
    "                    new_steam.visit(slice, map, z)"
   ]
  },
  {
   "cell_type": "code",
   "execution_count": 75,
   "metadata": {},
   "outputs": [
    {
     "data": {
      "text/plain": [
       "58"
      ]
     },
     "execution_count": 75,
     "metadata": {},
     "output_type": "execute_result"
    }
   ],
   "source": [
    "from itertools import product\n",
    "\n",
    "p2_items = [Cube(line) for line in test_data]\n",
    "p2_cube_map = { c.p : c for c in p2_items }\n",
    "\n",
    "[n.get_surface_area(p2_cube_map) for n in p2_items]\n",
    "\n",
    "x = set([n.p.x for n in p2_items])\n",
    "y = set([n.p.y for n in p2_items])\n",
    "z = set([n.p.z for n in p2_items])\n",
    "\n",
    "(min_x, max_x) = (min(x), max(x))\n",
    "(min_y, max_y) = (min(y), max(y))\n",
    "(min_z, max_z) = (min(z), max(z))\n",
    "\n",
    "slice_range = ((min_x - 1, min_y - 1), (max_x + 1, max_y + 1))\n",
    "\n",
    "slices = []\n",
    "cur_slice = {P2(x, y) : Steam(x, y, slice_range) for x, y in product(\n",
    "    range(slice_range[0][0], slice_range[1][0] + 1), \n",
    "    range(slice_range[0][1], slice_range[1][1] + 1)\n",
    ")}\n",
    "slices.append(cur_slice)\n",
    "\n",
    "for z in range(min_z -1, max_z + 2):\n",
    "    for p, n in list(cur_slice.items()):\n",
    "        n.visit(cur_slice, p2_cube_map, z)\n",
    "    next_slice = cur_slice.copy()\n",
    "    slices.append(next_slice)\n",
    "    for p, n in list(cur_slice.items()):\n",
    "        if n.should_die(p2_cube_map, z):\n",
    "            del next_slice[p]\n",
    "    cur_slice = next_slice\n",
    "    \n",
    "sum([n.get_visited_area() for n in p2_items])"
   ]
  },
  {
   "cell_type": "code",
   "execution_count": 101,
   "metadata": {},
   "outputs": [
    {
     "data": {
      "image/png": "[encoded data removed]",
      "text/plain": [
       "<Figure size 1000x1000 with 1 Axes>"
      ]
     },
     "metadata": {},
     "output_type": "display_data"
    }
   ],
   "source": [
    "z = 5\n",
    "create_image(p2_cube_map, z)"
   ]
  },
  {
   "cell_type": "code",
   "execution_count": 98,
   "metadata": {},
   "outputs": [],
   "source": [
    "c1 = mpl.colormaps['viridis']\n",
    "\n",
    "def create_image(map, z):\n",
    "    sizex, sizey = max_x - min_x + 3, max_y - min_y + 3\n",
    "    x_adj, y_adj = min_x - 1, min_y - 1\n",
    "    grid = [[0] * sizex for i in range(sizey)]\n",
    "    for p, n in map.items():\n",
    "        if p.z == z:\n",
    "            grid[p.y + y_adj][p.x + x_adj] = 2\n",
    "            for q, o in n.visited.items():\n",
    "                if q.z == z:\n",
    "                    grid[q.y + y_adj][q.x + x_adj] = 1\n",
    "        elif p.z == z + 1:\n",
    "            for q, o in n.visited.items():\n",
    "                if q.z == z:\n",
    "                    grid[q.y + y_adj][q.x + x_adj] = 1.5\n",
    "        elif p.z == z - 1:\n",
    "            for q, o in n.visited.items():\n",
    "                if q.z == z:\n",
    "                    grid[q.y + y_adj][q.x + x_adj] = 0.5\n",
    "            \n",
    "    fig, ax = plt.subplots(1, 1, figsize=(10, 10))\n",
    "    ax.pcolormesh(grid, cmap=c1, rasterized=True, vmin=0, vmax=2)"
   ]
  }
 ],
 "metadata": {
  "kernelspec": {
   "display_name": "Python 3.9.9 64-bit ('3.9.9')",
   "language": "python",
   "name": "python3"
  },
  "language_info": {
   "codemirror_mode": {
    "name": "ipython",
    "version": 3
   },
   "file_extension": ".py",
   "mimetype": "text/x-python",
   "name": "python",
   "nbconvert_exporter": "python",
   "pygments_lexer": "ipython3",
   "version": "3.9.9"
  },
  "orig_nbformat": 4,
  "vscode": {
   "interpreter": {
    "hash": "22aeb63a0a2db747a321f2caafae8e1445c0cd0e33539d23040cf484a16a8cff"
   }
  }
 },
 "nbformat": 4,
 "nbformat_minor": 2
}
