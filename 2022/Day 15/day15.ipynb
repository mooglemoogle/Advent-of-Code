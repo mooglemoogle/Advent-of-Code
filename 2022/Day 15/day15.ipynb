{
 "cells": [
  {
   "cell_type": "code",
   "execution_count": 17,
   "metadata": {},
   "outputs": [],
   "source": [
    "import re\n",
    "import matplotlib as mpl\n",
    "import matplotlib.pyplot as plt\n",
    "import matplotlib.animation as anim\n",
    "import numpy as np\n",
    "plt.rcParams['animation.ffmpeg_path'] = '/Users/chris/Downloads/ffmpeg'\n",
    "c1 = mpl.colormaps['viridis']\n",
    "c2 = mpl.colormaps['cool']\n",
    "\n",
    "lines = open('./data.txt', 'r').read().splitlines()\n",
    "\n",
    "class Point:\n",
    "    def __init__(self, loc):\n",
    "        (x, y) = loc\n",
    "        self.x = int(x)\n",
    "        self.y = int(y)\n",
    "    \n",
    "    def dist(self, other):\n",
    "        return abs(self.x - other.x) + abs(self.y - other.y)\n",
    "\n",
    "class Sensor:\n",
    "    def __init__(self, sens_loc: Point, beac_loc: Point):\n",
    "        self.sens_loc = sens_loc\n",
    "        self.beac_loc = beac_loc\n",
    "        self.radius = sens_loc.dist(beac_loc)\n",
    "        self.min_x = sens_loc.x - self.radius\n",
    "        self.max_x = sens_loc.x + self.radius\n",
    "        self.min_y = sens_loc.y - self.radius\n",
    "        self.max_y = sens_loc.y + self.radius\n",
    "        self.width = self.max_x - self.min_x\n",
    "        self.height = self.max_y - self.min_y\n",
    "\n",
    "    def test_point(self, p: Point):\n",
    "        return self.sens_loc.dist(p) <= self.radius\n",
    "    \n",
    "    def bounds_at_y(self, y: int):\n",
    "        if abs(y - self.sens_loc.y) > self.radius: return None\n",
    "        x_val = self.radius - abs(y - self.sens_loc.y)\n",
    "        return (self.sens_loc.x - x_val, self.sens_loc.x + x_val)\n",
    "\n",
    "location_re = re.compile(r'x=(-?\\d+), y=(-?\\d+)')\n",
    "\n",
    "lines = [line.split(': ') for line in lines]\n",
    "items = [[Point(location_re.search(val).groups()) for val in line] for line in lines]\n",
    "items = [Sensor(i[0], i[1]) for i in items]\n",
    "\n",
    "mins = (min([p.min_x for p in items]), min([p.min_y for p in items]), min([p.radius for p in items]))\n",
    "maxs = (max([p.max_x for p in items]), max([p.max_y for p in items]), max([p.radius for p in items]))\n",
    "\n",
    "bounds = ((mins[0], mins[1]), (maxs[0], maxs[1]))\n",
    "\n",
    "width = bounds[1][0] - bounds[0][0]\n",
    "height = bounds[1][1] - bounds[0][1]"
   ]
  },
  {
   "cell_type": "code",
   "execution_count": null,
   "metadata": {},
   "outputs": [],
   "source": [
    "test_y = 2000000\n",
    "count = 0\n",
    "for i in range(bounds[0][0], bounds[1][0] + 1):\n",
    "    p = Point((i, test_y))\n",
    "    count += any(map(lambda s: s.test_point(p), items))\n",
    "\n",
    "count"
   ]
  },
  {
   "cell_type": "code",
   "execution_count": 24,
   "metadata": {},
   "outputs": [
    {
     "data": {
      "text/plain": [
       "[(3186981, [(0, 3334478), (3334480, 4000000)])]"
      ]
     },
     "execution_count": 24,
     "metadata": {},
     "output_type": "execute_result"
    }
   ],
   "source": [
    "from functools import reduce\n",
    "\n",
    "n_b = ((0, 4000000), (0, 4000000))\n",
    "\n",
    "def combine_ranges(ranges):\n",
    "    def combine_2(r1, r2):\n",
    "        if r1[0] <= r2[1] and r2[0] <= r1[1]:\n",
    "            return (min(r1[0], r2[0]), max(r1[1], r2[1]))\n",
    "        else:\n",
    "            return None\n",
    "    \n",
    "    out = []\n",
    "    prev = ranges[0]\n",
    "    for i in range(1, len(ranges)):\n",
    "        cur = ranges[i]\n",
    "        res = combine_2(prev, cur)\n",
    "        if res:\n",
    "            prev = res\n",
    "        else:\n",
    "            out.append(prev)\n",
    "            prev = cur\n",
    "    out.append(prev)\n",
    "    out[0] = (max(0, out[0][0]), out[0][1])\n",
    "    out[-1] = (out[-1][0], min(4000000, out[-1][1]))\n",
    "    return out\n",
    "\n",
    "rows = []\n",
    "for y in range(n_b[1][0], n_b[1][1] + 1):\n",
    "    ranges = [s.bounds_at_y(y) for s in items]\n",
    "    ranges = [b for b in ranges if b]\n",
    "    ranges = sorted(ranges, key=lambda x: x[0])\n",
    "    row = combine_ranges(ranges)\n",
    "    if len(row) > 1:\n",
    "        rows.append((y, row))\n",
    "\n",
    "rows\n",
    "# ranges"
   ]
  },
  {
   "cell_type": "code",
   "execution_count": 26,
   "metadata": {},
   "outputs": [
    {
     "data": {
      "text/plain": [
       "13337919186981"
      ]
     },
     "execution_count": 26,
     "metadata": {},
     "output_type": "execute_result"
    }
   ],
   "source": [
    "rows[0][0] + (rows[0][1][0][1] + 1) * 4000000"
   ]
  },
  {
   "cell_type": "code",
   "execution_count": 22,
   "metadata": {},
   "outputs": [
    {
     "name": "stdout",
     "output_type": "stream",
     "text": [
      "1670478 2282136 611658\n"
     ]
    },
    {
     "data": {
      "text/plain": [
       "[(1670478, (3011731, 3011731)),\n",
       " (1731643, (2950566, 3072896)),\n",
       " (1792808, (2889401, 3134061)),\n",
       " (1853973, (2828236, 3195226)),\n",
       " (1915138, (2767071, 3256391)),\n",
       " (1976303, (2705906, 3317556)),\n",
       " (2037468, (2767063, 3256399)),\n",
       " (2098633, (2828228, 3195234)),\n",
       " (2159798, (2889393, 3134069)),\n",
       " (2220963, (2950558, 3072904)),\n",
       " (2282136, (3011731, 3011731))]"
      ]
     },
     "execution_count": 22,
     "metadata": {},
     "output_type": "execute_result"
    }
   ],
   "source": [
    "smallest = min([item.width for item in items])\n",
    "smallest = next(x for x in items if x.width == smallest)\n",
    "\n",
    "parts = smallest.height // 10\n",
    "ys = [smallest.min_y + (i * parts) for i in range(10)] + [smallest.max_y]\n",
    "\n",
    "print(smallest.min_y, smallest.max_y, smallest.height)\n",
    "\n",
    "[(y, smallest.bounds_at_y(y)) for y in ys]\n",
    "\n",
    "# for i in range(item.min_y, item.max_y + 1):\n",
    "#     r = item.bounds_at_y(i)\n",
    "#     row = ss[i - item.min_y]\n",
    "#     for x in range(r[0], r[1] + 1):\n",
    "#         row[x] = 1\n",
    "\n",
    "# item.width, item.height"
   ]
  }
 ],
 "metadata": {
  "kernelspec": {
   "display_name": "Python 3",
   "language": "python",
   "name": "python3"
  },
  "language_info": {
   "codemirror_mode": {
    "name": "ipython",
    "version": 3
   },
   "file_extension": ".py",
   "mimetype": "text/x-python",
   "name": "python",
   "nbconvert_exporter": "python",
   "pygments_lexer": "ipython3",
   "version": "3.9.5"
  },
  "orig_nbformat": 4,
  "vscode": {
   "interpreter": {
    "hash": "ed8ef1eb8950f0e182d7430025cd92cdff5cbb2ac440e6ad72774f39491fca9c"
   }
  }
 },
 "nbformat": 4,
 "nbformat_minor": 2
}
