{
 "cells": [
  {
   "cell_type": "code",
   "execution_count": 1,
   "metadata": {},
   "outputs": [
    {
     "name": "stdout",
     "output_type": "stream",
     "text": [
      "[{'index': 79, 'total': 69836.0, 'count': 14}, {'index': 67, 'total': 69796.0, 'count': 1}, {'index': 60, 'total': 68336.0, 'count': 8}]\n",
      "207968.0\n"
     ]
    }
   ],
   "source": [
    "f = open(\"inv.txt\", \"r\")\n",
    "\n",
    "elves = []\n",
    "max = 0\n",
    "maxIndex = 0\n",
    "baseElf = {\n",
    "    \"index\": 0,\n",
    "    \"total\": 0,\n",
    "    \"count\": 0,\n",
    "}\n",
    "curElf = baseElf.copy()\n",
    "\n",
    "for line in f:\n",
    "    try:\n",
    "        val = float(line)\n",
    "        curElf[\"total\"] = curElf[\"total\"] + val\n",
    "        curElf[\"count\"] = curElf[\"count\"] + 1\n",
    "\n",
    "        if curElf[\"total\"] > max:\n",
    "            max = curElf[\"total\"]\n",
    "            maxIndex = curElf[\"index\"]\n",
    "    except:\n",
    "        elves.append(curElf)\n",
    "        curElf = baseElf.copy()\n",
    "        curElf[\"index\"] = len(elves)\n",
    "    \n",
    "elves.append(curElf)\n",
    "\n",
    "f.close()\n",
    "\n",
    "elves.sort(key=lambda x: x[\"total\"], reverse=True)\n",
    "\n",
    "top = elves[0:3]\n",
    "out = sum([item[\"total\"] for item in top])\n",
    "\n",
    "print (top)\n",
    "print (out)"
   ]
  }
 ],
 "metadata": {
  "kernelspec": {
   "display_name": "Python 3.9.5 64-bit ('3.9.5')",
   "language": "python",
   "name": "python3"
  },
  "language_info": {
   "codemirror_mode": {
    "name": "ipython",
    "version": 3
   },
   "file_extension": ".py",
   "mimetype": "text/x-python",
   "name": "python",
   "nbconvert_exporter": "python",
   "pygments_lexer": "ipython3",
   "version": "3.9.5"
  },
  "orig_nbformat": 4,
  "vscode": {
   "interpreter": {
    "hash": "ed8ef1eb8950f0e182d7430025cd92cdff5cbb2ac440e6ad72774f39491fca9c"
   }
  }
 },
 "nbformat": 4,
 "nbformat_minor": 2
}
