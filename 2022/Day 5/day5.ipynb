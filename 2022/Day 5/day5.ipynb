{
 "cells": [
  {
   "cell_type": "code",
   "execution_count": 36,
   "metadata": {},
   "outputs": [],
   "source": [
    "import re\n",
    "from collections import namedtuple\n",
    "\n",
    "num_row = re.compile(r'^(\\s+(\\d+)\\s*)*$', )\n",
    "def get_stack_lines(lines):\n",
    "    stack_lines = []\n",
    "\n",
    "    line = lines.pop(0)\n",
    "    while not num_row.match(line):\n",
    "        stack_lines.insert(0, line)\n",
    "        line = lines.pop(0)\n",
    "    \n",
    "    return stack_lines\n",
    "\n",
    "Stacks = list[list[str]]\n",
    "find_stack = re.compile(r'\\[(\\w)\\]')\n",
    "def build_stacks(lines:list[str]):\n",
    "    stacks = []\n",
    "    for line in lines:\n",
    "        match = find_stack.search(line)\n",
    "        while match:\n",
    "            (start, end) = match.span()\n",
    "            stack_num = start // 4\n",
    "            if len(stacks) <= stack_num:\n",
    "                stacks.append([])\n",
    "            stacks[stack_num].append(match[1])\n",
    "            match = find_stack.search(line, end)\n",
    "    return stacks\n",
    "\n",
    "Instruction = namedtuple(\"Instruction\", \"fro to num\")\n",
    "instruction_match = re.compile(r'move (\\d+) from (\\d+) to (\\d+)')\n",
    "def parse_instruction(line):\n",
    "    match = instruction_match.match(line)\n",
    "    if not match:\n",
    "        return None\n",
    "    \n",
    "    return Instruction(int(match[2]) - 1, int(match[3]) - 1, int(match[1]))\n",
    "\n",
    "def run_instruction(instruction:Instruction, stacks:Stacks):\n",
    "    fro = stacks[instruction.fro]\n",
    "    to = stacks[instruction.to]\n",
    "\n",
    "    moved = fro[-instruction.num:]\n",
    "    # moved.reverse()\n",
    "    to.extend(moved)\n",
    "    stacks[instruction.fro] = fro[:-instruction.num]\n"
   ]
  },
  {
   "cell_type": "code",
   "execution_count": 37,
   "metadata": {},
   "outputs": [
    {
     "data": {
      "text/plain": [
       "'NLCDCLVMQ'"
      ]
     },
     "execution_count": 37,
     "metadata": {},
     "output_type": "execute_result"
    }
   ],
   "source": [
    "lines = open('./data.txt', 'r').read().splitlines()\n",
    "\n",
    "stack_lines = get_stack_lines(lines)\n",
    "stacks = build_stacks(stack_lines)\n",
    "\n",
    "lines.pop(0)\n",
    "for line in lines:\n",
    "    ins = parse_instruction(line)\n",
    "    run_instruction(ins, stacks)\n",
    "\n",
    "stacks\n",
    "''.join([stack[-1] for stack in stacks])"
   ]
  },
  {
   "cell_type": "code",
   "execution_count": null,
   "metadata": {},
   "outputs": [],
   "source": []
  }
 ],
 "metadata": {
  "kernelspec": {
   "display_name": "Python 3.9.5 64-bit ('3.9.5')",
   "language": "python",
   "name": "python3"
  },
  "language_info": {
   "codemirror_mode": {
    "name": "ipython",
    "version": 3
   },
   "file_extension": ".py",
   "mimetype": "text/x-python",
   "name": "python",
   "nbconvert_exporter": "python",
   "pygments_lexer": "ipython3",
   "version": "3.9.5"
  },
  "orig_nbformat": 4,
  "vscode": {
   "interpreter": {
    "hash": "ed8ef1eb8950f0e182d7430025cd92cdff5cbb2ac440e6ad72774f39491fca9c"
   }
  }
 },
 "nbformat": 4,
 "nbformat_minor": 2
}
