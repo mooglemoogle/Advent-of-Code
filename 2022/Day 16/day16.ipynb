{
 "cells": [
  {
   "cell_type": "code",
   "execution_count": 31,
   "metadata": {},
   "outputs": [],
   "source": [
    "import re\n",
    "\n",
    "lines = open('./data.txt', 'r').read().splitlines()\n",
    "line_parse = re.compile(r'Valve (\\D\\D) has flow rate=(\\d+); tunnels? leads? to valves? (.*)')\n",
    "\n",
    "class Node:\n",
    "    def __init__(self, node_line: str):\n",
    "        result = line_parse.search(node_line)\n",
    "        (name, flow, paths) = result.groups()\n",
    "        self.n = name\n",
    "        self.f = int(flow)\n",
    "        self.p_n = paths.split(', ')\n",
    "        self.costs = {}\n",
    "\n",
    "    def compute_cost(self, target, current_path):\n",
    "        cur_len = len(current_path)\n",
    "        if self is target:\n",
    "            return cur_len\n",
    "        costs = [n.compute_cost(target, current_path + [n.n]) for n in self.p if n.n not in current_path]\n",
    "        costs = [c for c in costs if c is not None]\n",
    "        if costs:\n",
    "            cost = min(costs)\n",
    "            return cost\n",
    "        else:\n",
    "            return None\n",
    "\n",
    "    def get_cost(self, target, current_path = None):\n",
    "        if target.n not in self.costs:\n",
    "            self.costs[target.n] = self.compute_cost(target, [])\n",
    "        return self.costs[target.n]\n",
    "    \n",
    "    def set_neighbors(self, neighbors):\n",
    "        self.p = neighbors.copy()\n",
    "        self.p_d = { n.n:n for n in neighbors }\n",
    "        for n in neighbors:\n",
    "            self.costs[n.n] = 1\n",
    "    \n",
    "    def get_potential(self, time_remaining: int):\n",
    "        return self.f * time_remaining\n",
    "    \n",
    "    def get_priority(self, target, time:int):\n",
    "        c = self.get_cost(target)\n",
    "        if c > time - 1:\n",
    "            return None\n",
    "        return -(target.get_potential(time - c))\n",
    "\n",
    "node_list = [Node(line) for line in lines]\n",
    "node_map = {n.n: n for n in node_list}\n",
    "for n in node_list:\n",
    "    n.set_neighbors([node_map[name] for name in n.p_n])\n",
    "\n",
    "start = node_map['AA']\n",
    "\n",
    "all_targets = [n for n in node_list if n.f > 0]\n",
    "\n",
    "all_costs = set()\n",
    "\n",
    "for t1 in all_targets:\n",
    "    all_costs.add(start.get_cost(t1))\n",
    "    for t2 in all_targets:\n",
    "        if t1 is not t2:\n",
    "            all_costs.add(t1.get_cost(t2))\n",
    "\n",
    "min_cost = min(all_costs)\n"
   ]
  },
  {
   "cell_type": "code",
   "execution_count": 2,
   "metadata": {},
   "outputs": [],
   "source": [
    "class TreeNode:\n",
    "    def __init__(self, node: Node, visited: list[str], time: int, flow: int):\n",
    "        self.n = node\n",
    "        self.v = visited\n",
    "        self.t = time\n",
    "        self.f = flow\n",
    "        self.next = []\n",
    "    \n",
    "    def __str__(self):\n",
    "        return f'TreeNode n={self.n.n} v={self.v} t={self.t} f={self.f} nc={len(self.next)}'\n",
    "\n",
    "    def add_next(self, node):\n",
    "        self.next.append(node)"
   ]
  },
  {
   "cell_type": "code",
   "execution_count": null,
   "metadata": {},
   "outputs": [],
   "source": [
    "root_node = TreeNode(node_map['AA'], ['AA'], 30, 0)\n",
    "leaves = []\n",
    "\n",
    "def build_tree(node: TreeNode):\n",
    "    add_leaf = False\n",
    "    for n in all_targets:\n",
    "        if n.n not in node.v:\n",
    "            c = node.n.get_cost(n)\n",
    "            if ((c + 1) < node.t):\n",
    "                p = n.get_potential(node.t - c)\n",
    "                node.add_next(TreeNode(n, node.v + [n.n], node.t - c - 1, node.f + p))\n",
    "            else:\n",
    "                add_leaf = True\n",
    "    if (add_leaf):\n",
    "        leaf = TreeNode(None, node.v, 0, node.f)\n",
    "        node.add_next(leaf)\n",
    "        leaves.append(leaf)\n",
    "    for n in node.next:\n",
    "        if (n.n):\n",
    "            build_tree(n)\n",
    "\n",
    "build_tree(root_node)"
   ]
  },
  {
   "cell_type": "code",
   "execution_count": 72,
   "metadata": {},
   "outputs": [
    {
     "data": {
      "text/plain": [
       "1880"
      ]
     },
     "execution_count": 72,
     "metadata": {},
     "output_type": "execute_result"
    }
   ],
   "source": [
    "[str(n) for n in root_node.next]\n",
    "len(leaves)\n",
    "max([l.f for l in leaves])"
   ]
  },
  {
   "cell_type": "code",
   "execution_count": 35,
   "metadata": {},
   "outputs": [
    {
     "name": "stdout",
     "output_type": "stream",
     "text": [
      "2\n"
     ]
    }
   ],
   "source": [
    "from itertools import combinations, permutations\n",
    "leaves2 = []\n",
    "\n",
    "Cur = tuple[Node, Node, int]\n",
    "\n",
    "# def traverse_tree(workers:list[Cur], time: int, visited: set[str], flow):\n",
    "#     def create_leaf():\n",
    "#         leaf = TreeNode(None, visited, 0, flow)\n",
    "#         leaves2.append(leaf)\n",
    "#     if time == 0:\n",
    "#         create_leaf()\n",
    "#         return\n",
    "\n",
    "#     add_leaf = False\n",
    "#     next_flow = flow\n",
    "#     next_time = time - 1\n",
    "#     needs_targ = []\n",
    "#     moving = []\n",
    "#     for w in workers:\n",
    "#         if w[2] == 0 and w[1]:\n",
    "#             needs_targ.append(w)\n",
    "#             next_flow += w[1].get_potential(time + 1)\n",
    "#         elif not w[1]:\n",
    "#             moving.append(w)\n",
    "#         else:\n",
    "#             moving.append((w[0], w[1], w[2] - 1))\n",
    "    \n",
    "#     if needs_targ:\n",
    "#         remaining = [t for t in all_targets if t.n not in visited]\n",
    "#         combos = list(combinations(remaining, len(needs_targ)))\n",
    "#         for p in combos:\n",
    "#             new_workers = [m for m in moving]\n",
    "#             for i in range(len(needs_targ)):\n",
    "#                 t = needs_targ[i]\n",
    "#                 new_cur = t[1]\n",
    "#                 new_targ = p[i]\n",
    "#                 c = new_cur.get_cost(new_targ) + 1\n",
    "#                 if c < next_time:\n",
    "#                     new_workers.append((new_cur, new_targ, c))\n",
    "#                 else:\n",
    "#                     new_workers.append((new_cur, None, 0))\n",
    "#             if [w for w in new_workers if w[1] is not None]:\n",
    "#                 next_visited = visited.union([n[1].n for n in new_workers if n[1] is not None])\n",
    "#                 traverse_tree(new_workers, next_time, next_visited, next_flow)\n",
    "#             else:\n",
    "#                 add_leaf = True\n",
    "#         if (add_leaf):\n",
    "#             create_leaf()\n",
    "#     else:\n",
    "#         traverse_tree(moving, next_time, visited, next_flow)\n",
    "\n",
    "# traverse_tree([(None, start, 0), (None, start, 0)], 27, set(), 0)\n",
    "\n",
    "sums = set()\n",
    "max_time = 26\n",
    "init_rem = set(all_targets)\n",
    "print(min_cost)\n",
    "\n",
    "def permute(l_last: Node, lt: int, r_last: Node, rt: int, remaining: set[Node], total: int, depth: int):\n",
    "    if rt <= min_cost + 1 and lt <= min_cost + 1:\n",
    "        sums.add(total)\n",
    "        return\n",
    "    l_o = [n for n in remaining if l_last.costs[n.n] + 1 < lt]\n",
    "    r_o = [n for n in remaining if r_last.costs[n.n] + 1 < rt]\n",
    "    if not l_o and not r_o:\n",
    "        sums.add(total)\n",
    "        return\n",
    "    l_o = l_o or [None]\n",
    "    r_o = r_o or [None]\n",
    "    for l in l_o:\n",
    "        for r in r_o:\n",
    "            if l is r:\n",
    "                continue\n",
    "            l_new, r_new = l_last, r_last\n",
    "            lt_new, rt_new = lt, rt\n",
    "            new_total = total\n",
    "            is_leaf = True\n",
    "            if l and l_last.costs[l.n] < (lt - 1):\n",
    "                l_new = l\n",
    "                lt_new = lt - 1 - l_last.costs[l.n]\n",
    "                new_total += l.get_potential(lt_new)\n",
    "                is_leaf = False\n",
    "            if r and r_last.costs[r.n] < (rt - 1):\n",
    "                r_new = r\n",
    "                rt_new = rt - 1 - r_last.costs[r.n]\n",
    "                new_total += r.get_potential(rt_new)\n",
    "                is_leaf = False\n",
    "            if not is_leaf:\n",
    "                permute(r_new, rt_new, l_new, lt_new, remaining.difference([l_new, r_new]), new_total, depth + 1)\n",
    "            else:\n",
    "                sums.add(new_total)\n",
    "\n",
    "permute(start, max_time, start, max_time, init_rem, 0, 0)"
   ]
  },
  {
   "cell_type": "code",
   "execution_count": 36,
   "metadata": {},
   "outputs": [
    {
     "data": {
      "text/plain": [
       "2520"
      ]
     },
     "execution_count": 36,
     "metadata": {},
     "output_type": "execute_result"
    }
   ],
   "source": [
    "max(sums)"
   ]
  }
 ],
 "metadata": {
  "kernelspec": {
   "display_name": "Python 3",
   "language": "python",
   "name": "python3"
  },
  "language_info": {
   "codemirror_mode": {
    "name": "ipython",
    "version": 3
   },
   "file_extension": ".py",
   "mimetype": "text/x-python",
   "name": "python",
   "nbconvert_exporter": "python",
   "pygments_lexer": "ipython3",
   "version": "3.9.5"
  },
  "orig_nbformat": 4,
  "vscode": {
   "interpreter": {
    "hash": "ed8ef1eb8950f0e182d7430025cd92cdff5cbb2ac440e6ad72774f39491fca9c"
   }
  }
 },
 "nbformat": 4,
 "nbformat_minor": 2
}
