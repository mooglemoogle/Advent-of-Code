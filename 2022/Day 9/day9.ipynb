{
 "cells": [
  {
   "cell_type": "code",
   "execution_count": 12,
   "metadata": {},
   "outputs": [],
   "source": [
    "from collections import namedtuple\n",
    "\n",
    "Point = namedtuple('Point', 'x y')\n",
    "Move = namedtuple('Move', 'dir dist')\n",
    "\n",
    "visited = set()\n",
    "\n",
    "def cmp(a, b):\n",
    "    return (a > b) - (a < b) \n",
    "\n",
    "ops = {\n",
    "    'U': lambda x, y: Point(x, y + 1),\n",
    "    'D': lambda x, y: Point(x, y - 1),\n",
    "    'L': lambda x, y: Point(x - 1, y),\n",
    "    'R': lambda x, y: Point(x + 1, y),\n",
    "}\n",
    "\n",
    "def move_head(head: Point, tails: list[Point], move: Move):\n",
    "    global ops, visited\n",
    "    op = ops[move.dir]\n",
    "    for i in range(move.dist):\n",
    "        head = op(*head)\n",
    "        (one, two) = (None, None)\n",
    "        for i in range(len(tails)):\n",
    "            one = two\n",
    "            two = tails[i]\n",
    "            two = move_tail(one or head, two)\n",
    "            tails[i] = two\n",
    "        visited.add(str(tails[-1]))\n",
    "    return (head, tails)\n",
    "\n",
    "def move_tail(head: Point, tail: Point):\n",
    "    dx = head.x - tail.x\n",
    "    dy = head.y - tail.y\n",
    "\n",
    "    # if tail is not adjacent to x, one of the diffs will be\n",
    "    # greater than one\n",
    "    if abs(dx) > 1 or abs(dy) > 1:\n",
    "        # in that case, comparing the diff to 0 will produce\n",
    "        # 1, 0, or -1 which is exactly what we want to add to tail\n",
    "        # to bring it where we want it\n",
    "        return Point(tail.x + cmp(dx, 0), tail.y + cmp(dy, 0))\n",
    "    #otherwise, just return tail, no changes needed\n",
    "    return tail\n"
   ]
  },
  {
   "cell_type": "code",
   "execution_count": 13,
   "metadata": {},
   "outputs": [
    {
     "name": "stdout",
     "output_type": "stream",
     "text": [
      "Point(x=9, y=-133) [Point(x=10, y=-133), Point(x=11, y=-133), Point(x=12, y=-133), Point(x=13, y=-133), Point(x=14, y=-133), Point(x=15, y=-134), Point(x=15, y=-135), Point(x=15, y=-136), Point(x=15, y=-137)] 2541\n"
     ]
    }
   ],
   "source": [
    "def make_move(line):\n",
    "    [dir, dist] = line.split(' ')\n",
    "    return Move(dir, int(dist))\n",
    "steps = open('./data.txt', 'r').read().splitlines()\n",
    "\n",
    "head = Point(0, 0)\n",
    "tails = [Point(0, 0) for i in range(9)]\n",
    "for step in steps:\n",
    "    (head, tails) = move_head(head, tails, make_move(step))\n",
    "\n",
    "positions = len(visited)\n",
    "print(head, tails, positions)"
   ]
  }
 ],
 "metadata": {
  "kernelspec": {
   "display_name": "Python 3.9.9 64-bit ('3.9.9')",
   "language": "python",
   "name": "python3"
  },
  "language_info": {
   "codemirror_mode": {
    "name": "ipython",
    "version": 3
   },
   "file_extension": ".py",
   "mimetype": "text/x-python",
   "name": "python",
   "nbconvert_exporter": "python",
   "pygments_lexer": "ipython3",
   "version": "3.9.9"
  },
  "orig_nbformat": 4,
  "vscode": {
   "interpreter": {
    "hash": "22aeb63a0a2db747a321f2caafae8e1445c0cd0e33539d23040cf484a16a8cff"
   }
  }
 },
 "nbformat": 4,
 "nbformat_minor": 2
}
